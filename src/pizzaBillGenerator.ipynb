{
 "cells": [
  {
   "cell_type": "code",
   "execution_count": null,
   "id": "6152a4a3-a1d5-4367-96fb-63e7c5d6f635",
   "metadata": {},
   "outputs": [
    {
     "name": "stdout",
     "output_type": "stream",
     "text": [
      "\n",
      "===================================================\n",
      "              PYTHON PIZZA DELIVERIES             \n",
      "===================================================\n",
      "\n",
      "Welcome to Python Pizza Deliveries!\n"
     ]
    }
   ],
   "source": [
    "ascii_header = \"\"\"\n",
    "===================================================\n",
    "              PYTHON PIZZA DELIVERIES             \n",
    "===================================================\n",
    "\"\"\"\n",
    "\n",
    "print(ascii_header)\n",
    "print(\"Welcome to Python Pizza Deliveries!\")\n",
    "userName=input(\"Your name: \").upper()\n",
    "print(\"Please select your pizza options below:\\n\")\n",
    "\n",
    "# Pizza size selection\n",
    "while True:\n",
    "    size = input(\"What size pizza do you want? (S, M, L): \").upper()\n",
    "    if size in [\"S\", \"M\", \"L\"]:\n",
    "        break\n",
    "    print(\"Invalid selection. Please enter S for Small, M for Medium, or L for Large.\")\n",
    "\n",
    "# Set base price based on size\n",
    "if size == \"S\":\n",
    "    base_price = 15\n",
    "elif size == \"M\":\n",
    "    base_price = 20\n",
    "else:\n",
    "    base_price = 25\n",
    "\n",
    "# Pepperoni selection\n",
    "while True:\n",
    "    pepperoni = input(\"Do you want pepperoni on your pizza? (Y or N): \").upper()\n",
    "    if pepperoni in [\"Y\", \"N\"]:\n",
    "        break\n",
    "    print(\"Invalid selection. Please enter Y for Yes or N for No.\")\n",
    "\n",
    "# Set pepperoni price\n",
    "if pepperoni == \"Y\":\n",
    "    pepperoni_price = 2 if size == \"S\" else 3\n",
    "else:\n",
    "    pepperoni_price = 0\n",
    "\n",
    "# Extra cheese selection\n",
    "while True:\n",
    "    extra_cheese = input(\"Do you want extra cheese? (Y or N): \").upper()\n",
    "    if extra_cheese in [\"Y\", \"N\"]:\n",
    "        break\n",
    "    print(\"Invalid selection. Please enter Y for Yes or N for No.\")\n",
    "\n",
    "# Set extra cheese price\n",
    "cheese_price = 1 if extra_cheese == \"Y\" else 0\n",
    "\n",
    "total_bill = base_price + pepperoni_price + cheese_price\n",
    "\n",
    "ascii_footer = \"\"\"\n",
    "===================================================\n",
    "                THANK YOU FOR ORDERING             \n",
    "             Enjoy your delicious pizza! \n",
    "===================================================\n",
    "\"\"\"\n",
    "\n",
    "print(f\"\\n\\n {userName}'s Bill Receipt:\")\n",
    "print(ascii_header)\n",
    "print(f\"Pizza Size ({'Small' if size == 'S' else 'Medium' if size == 'M' else 'Large'}):           ${base_price}\")\n",
    "print(f\"Pepperoni:                    {'Yes' if pepperoni == 'Y' else 'No'}       ${pepperoni_price}\")\n",
    "print(f\"Extra Cheese:                 {'Yes' if extra_cheese == 'Y' else 'No'}       ${cheese_price}\")\n",
    "print(\"---------------------------------------------------\")\n",
    "print(f\"Total Bill:                             ${total_bill}\")\n",
    "print(ascii_footer)\n"
   ]
  },
  {
   "cell_type": "code",
   "execution_count": null,
   "id": "2cebb4ae-6391-4e0c-b3c9-e8721c9fd8e1",
   "metadata": {},
   "outputs": [],
   "source": []
  }
 ],
 "metadata": {
  "kernelspec": {
   "display_name": "Python 3 (ipykernel)",
   "language": "python",
   "name": "python3"
  },
  "language_info": {
   "codemirror_mode": {
    "name": "ipython",
    "version": 3
   },
   "file_extension": ".py",
   "mimetype": "text/x-python",
   "name": "python",
   "nbconvert_exporter": "python",
   "pygments_lexer": "ipython3",
   "version": "3.12.4"
  }
 },
 "nbformat": 4,
 "nbformat_minor": 5
}
